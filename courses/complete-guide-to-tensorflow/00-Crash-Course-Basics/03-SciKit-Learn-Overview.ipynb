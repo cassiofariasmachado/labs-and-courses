{
 "cells": [
  {
   "cell_type": "markdown",
   "metadata": {},
   "source": [
    "# SciKit Learn Preprocessing Overview"
   ]
  },
  {
   "cell_type": "code",
   "execution_count": 2,
   "metadata": {
    "collapsed": true
   },
   "outputs": [],
   "source": [
    "import numpy as np"
   ]
  },
  {
   "cell_type": "code",
   "execution_count": 3,
   "metadata": {
    "collapsed": true
   },
   "outputs": [],
   "source": [
    "from sklearn.preprocessing import MinMaxScaler"
   ]
  },
  {
   "cell_type": "code",
   "execution_count": 4,
   "metadata": {
    "collapsed": true
   },
   "outputs": [],
   "source": [
    "data = np.random.randint(0,100,(10,2))"
   ]
  },
  {
   "cell_type": "code",
   "execution_count": 6,
   "metadata": {},
   "outputs": [
    {
     "data": {
      "text/plain": [
       "array([[91, 80],\n",
       "       [68, 71],\n",
       "       [67,  7],\n",
       "       [81, 14],\n",
       "       [73, 99],\n",
       "       [63, 59],\n",
       "       [31, 36],\n",
       "       [94,  6],\n",
       "       [71,  8],\n",
       "       [26, 19]])"
      ]
     },
     "execution_count": 6,
     "metadata": {},
     "output_type": "execute_result"
    }
   ],
   "source": [
    "data"
   ]
  },
  {
   "cell_type": "code",
   "execution_count": 9,
   "metadata": {
    "collapsed": true
   },
   "outputs": [],
   "source": [
    "scaler_model = MinMaxScaler()"
   ]
  },
  {
   "cell_type": "code",
   "execution_count": 28,
   "metadata": {},
   "outputs": [
    {
     "data": {
      "text/plain": [
       "MinMaxScaler(copy=True, feature_range=(0, 1))"
      ]
     },
     "execution_count": 28,
     "metadata": {},
     "output_type": "execute_result"
    }
   ],
   "source": [
    "scaler_model.fit(data)"
   ]
  },
  {
   "cell_type": "code",
   "execution_count": 12,
   "metadata": {},
   "outputs": [
    {
     "data": {
      "text/plain": [
       "array([[ 0.95588235,  0.79569892],\n",
       "       [ 0.61764706,  0.69892473],\n",
       "       [ 0.60294118,  0.01075269],\n",
       "       [ 0.80882353,  0.08602151],\n",
       "       [ 0.69117647,  1.        ],\n",
       "       [ 0.54411765,  0.56989247],\n",
       "       [ 0.07352941,  0.32258065],\n",
       "       [ 1.        ,  0.        ],\n",
       "       [ 0.66176471,  0.02150538],\n",
       "       [ 0.        ,  0.13978495]])"
      ]
     },
     "execution_count": 12,
     "metadata": {},
     "output_type": "execute_result"
    }
   ],
   "source": [
    "scaler_model.transform(data)"
   ]
  },
  {
   "cell_type": "code",
   "execution_count": 30,
   "metadata": {},
   "outputs": [],
   "source": [
    "# In one step\n",
    "result = scaler_model.fit_transform(data)"
   ]
  },
  {
   "cell_type": "code",
   "execution_count": 31,
   "metadata": {},
   "outputs": [
    {
     "data": {
      "text/plain": [
       "array([[ 0.31313131,  0.91397849,  0.09090909,  0.77319588],\n",
       "       [ 0.14141414,  0.46236559,  0.8989899 ,  0.40206186],\n",
       "       [ 0.83838384,  0.84946237,  0.65656566,  0.70103093],\n",
       "       [ 0.87878788,  0.10752688,  0.2020202 ,  0.07216495],\n",
       "       [ 0.86868687,  0.77419355,  0.32323232,  0.34020619],\n",
       "       [ 0.51515152,  0.20430108,  0.96969697,  0.07216495],\n",
       "       [ 0.70707071,  0.29032258,  0.63636364,  0.67010309],\n",
       "       [ 0.62626263,  0.06451613,  0.28282828,  0.45360825],\n",
       "       [ 0.09090909,  0.70967742,  0.73737374,  0.08247423],\n",
       "       [ 0.64646465,  0.69892473,  0.37373737,  0.8556701 ],\n",
       "       [ 0.17171717,  0.61290323,  0.31313131,  0.4742268 ],\n",
       "       [ 0.73737374,  0.43010753,  0.41414141,  0.04123711],\n",
       "       [ 0.94949495,  0.92473118,  0.58585859,  0.82474227],\n",
       "       [ 0.81818182,  0.15053763,  0.50505051,  0.51546392],\n",
       "       [ 0.61616162,  0.11827957,  0.88888889,  0.90721649],\n",
       "       [ 0.44444444,  1.        ,  0.07070707,  0.69072165],\n",
       "       [ 0.16161616,  0.        ,  0.12121212,  0.54639175],\n",
       "       [ 0.3030303 ,  0.68817204,  0.73737374,  0.80412371],\n",
       "       [ 0.49494949,  0.43010753,  0.17171717,  0.7628866 ],\n",
       "       [ 0.77777778,  0.2688172 ,  0.97979798,  0.62886598],\n",
       "       [ 0.70707071,  0.94623656,  0.28282828,  0.29896907],\n",
       "       [ 1.        ,  0.34408602,  0.12121212,  0.11340206],\n",
       "       [ 0.87878788,  0.        ,  0.39393939,  0.68041237],\n",
       "       [ 0.16161616,  0.80645161,  0.94949495,  0.71134021],\n",
       "       [ 0.81818182,  0.56989247,  0.19191919,  0.24742268],\n",
       "       [ 0.93939394,  0.66666667,  0.84848485,  0.        ],\n",
       "       [ 0.13131313,  0.31182796,  0.66666667,  0.17525773],\n",
       "       [ 0.8989899 ,  0.31182796,  0.57575758,  0.60824742],\n",
       "       [ 0.13131313,  0.25806452,  0.73737374,  0.80412371],\n",
       "       [ 0.75757576,  0.39784946,  0.44444444,  0.89690722],\n",
       "       [ 0.22222222,  0.40860215,  0.39393939,  0.37113402],\n",
       "       [ 0.57575758,  0.04301075,  0.15151515,  0.36082474],\n",
       "       [ 0.90909091,  0.52688172,  0.22222222,  0.42268041],\n",
       "       [ 0.17171717,  0.39784946,  0.26262626,  0.83505155],\n",
       "       [ 0.55555556,  0.23655914,  0.33333333,  0.63917526],\n",
       "       [ 0.31313131,  0.04301075,  0.23232323,  0.3814433 ],\n",
       "       [ 0.        ,  0.59139785,  0.35353535,  0.20618557],\n",
       "       [ 0.09090909,  0.33333333,  0.34343434,  0.68041237],\n",
       "       [ 1.        ,  0.27956989,  0.54545455,  0.98969072],\n",
       "       [ 0.13131313,  0.90322581,  0.17171717,  0.53608247],\n",
       "       [ 0.86868687,  0.98924731,  1.        ,  0.73195876],\n",
       "       [ 0.06060606,  0.5483871 ,  0.55555556,  0.70103093],\n",
       "       [ 0.52525253,  0.65591398,  0.2020202 ,  0.88659794],\n",
       "       [ 0.33333333,  0.47311828,  0.28282828,  0.07216495],\n",
       "       [ 0.94949495,  0.31182796,  0.03030303,  0.64948454],\n",
       "       [ 0.78787879,  1.        ,  0.16161616,  0.72164948],\n",
       "       [ 0.02020202,  0.44086022,  0.15151515,  1.        ],\n",
       "       [ 0.88888889,  0.93548387,  0.64646465,  0.88659794],\n",
       "       [ 0.85858586,  0.83870968,  0.23232323,  0.40206186],\n",
       "       [ 0.31313131,  0.65591398,  0.        ,  0.89690722]])"
      ]
     },
     "execution_count": 31,
     "metadata": {},
     "output_type": "execute_result"
    }
   ],
   "source": [
    "result"
   ]
  },
  {
   "cell_type": "code",
   "execution_count": 15,
   "metadata": {
    "collapsed": true
   },
   "outputs": [],
   "source": [
    "import pandas as pd"
   ]
  },
  {
   "cell_type": "code",
   "execution_count": 16,
   "metadata": {
    "collapsed": true
   },
   "outputs": [],
   "source": [
    "data = pd.DataFrame(data=np.random.randint(0,101,(50,4)),columns=['f1','f2','f3','label'])"
   ]
  },
  {
   "cell_type": "code",
   "execution_count": 24,
   "metadata": {},
   "outputs": [
    {
     "data": {
      "text/html": [
       "<div>\n",
       "<style>\n",
       "    .dataframe thead tr:only-child th {\n",
       "        text-align: right;\n",
       "    }\n",
       "\n",
       "    .dataframe thead th {\n",
       "        text-align: left;\n",
       "    }\n",
       "\n",
       "    .dataframe tbody tr th {\n",
       "        vertical-align: top;\n",
       "    }\n",
       "</style>\n",
       "<table border=\"1\" class=\"dataframe\">\n",
       "  <thead>\n",
       "    <tr style=\"text-align: right;\">\n",
       "      <th></th>\n",
       "      <th>f1</th>\n",
       "      <th>f2</th>\n",
       "      <th>f3</th>\n",
       "      <th>label</th>\n",
       "    </tr>\n",
       "  </thead>\n",
       "  <tbody>\n",
       "    <tr>\n",
       "      <th>0</th>\n",
       "      <td>79</td>\n",
       "      <td>12</td>\n",
       "      <td>96</td>\n",
       "      <td>29</td>\n",
       "    </tr>\n",
       "    <tr>\n",
       "      <th>1</th>\n",
       "      <td>35</td>\n",
       "      <td>75</td>\n",
       "      <td>39</td>\n",
       "      <td>84</td>\n",
       "    </tr>\n",
       "    <tr>\n",
       "      <th>2</th>\n",
       "      <td>5</td>\n",
       "      <td>61</td>\n",
       "      <td>62</td>\n",
       "      <td>87</td>\n",
       "    </tr>\n",
       "    <tr>\n",
       "      <th>3</th>\n",
       "      <td>97</td>\n",
       "      <td>85</td>\n",
       "      <td>76</td>\n",
       "      <td>69</td>\n",
       "    </tr>\n",
       "    <tr>\n",
       "      <th>4</th>\n",
       "      <td>67</td>\n",
       "      <td>65</td>\n",
       "      <td>30</td>\n",
       "      <td>64</td>\n",
       "    </tr>\n",
       "  </tbody>\n",
       "</table>\n",
       "</div>"
      ],
      "text/plain": [
       "   f1  f2  f3  label\n",
       "0  79  12  96     29\n",
       "1  35  75  39     84\n",
       "2   5  61  62     87\n",
       "3  97  85  76     69\n",
       "4  67  65  30     64"
      ]
     },
     "execution_count": 24,
     "metadata": {},
     "output_type": "execute_result"
    }
   ],
   "source": [
    "data.head()"
   ]
  },
  {
   "cell_type": "code",
   "execution_count": 17,
   "metadata": {
    "collapsed": true
   },
   "outputs": [],
   "source": [
    "x = data[['f1','f2','f3']] # Alternatively x = data.drop('label',axis=1)\n",
    "y = data['label']"
   ]
  },
  {
   "cell_type": "code",
   "execution_count": 18,
   "metadata": {
    "collapsed": true
   },
   "outputs": [],
   "source": [
    "from sklearn.model_selection import train_test_split"
   ]
  },
  {
   "cell_type": "code",
   "execution_count": 20,
   "metadata": {
    "collapsed": true
   },
   "outputs": [],
   "source": [
    "X_train, X_test, y_train, y_test = train_test_split(x,y,test_size=0.3,random_state=101)"
   ]
  },
  {
   "cell_type": "code",
   "execution_count": 25,
   "metadata": {},
   "outputs": [
    {
     "data": {
      "text/plain": [
       "(35, 3)"
      ]
     },
     "execution_count": 25,
     "metadata": {},
     "output_type": "execute_result"
    }
   ],
   "source": [
    "X_train.shape"
   ]
  },
  {
   "cell_type": "code",
   "execution_count": 23,
   "metadata": {},
   "outputs": [
    {
     "data": {
      "text/plain": [
       "(15, 3)"
      ]
     },
     "execution_count": 23,
     "metadata": {},
     "output_type": "execute_result"
    }
   ],
   "source": [
    "X_test.shape"
   ]
  },
  {
   "cell_type": "code",
   "execution_count": 26,
   "metadata": {},
   "outputs": [
    {
     "data": {
      "text/plain": [
       "(35,)"
      ]
     },
     "execution_count": 26,
     "metadata": {},
     "output_type": "execute_result"
    }
   ],
   "source": [
    "y_train.shape"
   ]
  },
  {
   "cell_type": "code",
   "execution_count": 27,
   "metadata": {},
   "outputs": [
    {
     "data": {
      "text/plain": [
       "(15,)"
      ]
     },
     "execution_count": 27,
     "metadata": {},
     "output_type": "execute_result"
    }
   ],
   "source": [
    "y_test.shape"
   ]
  },
  {
   "cell_type": "markdown",
   "metadata": {},
   "source": [
    "## Great Job!"
   ]
  }
 ],
 "metadata": {
  "kernelspec": {
   "display_name": "Python 3",
   "language": "python",
   "name": "python3"
  },
  "language_info": {
   "codemirror_mode": {
    "name": "ipython",
    "version": 3
   },
   "file_extension": ".py",
   "mimetype": "text/x-python",
   "name": "python",
   "nbconvert_exporter": "python",
   "pygments_lexer": "ipython3",
   "version": "3.5.4"
  }
 },
 "nbformat": 4,
 "nbformat_minor": 2
}
